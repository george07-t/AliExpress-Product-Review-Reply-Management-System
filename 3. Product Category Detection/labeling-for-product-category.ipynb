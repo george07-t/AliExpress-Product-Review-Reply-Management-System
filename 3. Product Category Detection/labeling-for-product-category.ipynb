{
 "cells": [
  {
   "cell_type": "markdown",
   "metadata": {},
   "source": [
    "### Zero-Shot Classification Example\n",
    "\n",
    "- **Classification Setup**: The `facebook/bart-large-mnli` model is used for zero-shot classification, where the input sequence is classified into predefined categories from a list of candidate labels.\n",
    "\n",
    "- **Classification Output**: The model predicts the most probable category for the review \"satisfied little vacuum,\" and the result is printed as the most likely label."
   ]
  },
  {
   "cell_type": "code",
   "execution_count": 3,
   "metadata": {
    "_cell_guid": "b1076dfc-b9ad-4769-8c92-a6c4dae69d19",
    "_uuid": "8f2839f25d086af736a60e9eeb907d3b93b6e0e5",
    "execution": {
     "iopub.execute_input": "2025-03-26T14:13:09.683893Z",
     "iopub.status.busy": "2025-03-26T14:13:09.683560Z",
     "iopub.status.idle": "2025-03-26T14:13:11.338103Z",
     "shell.execute_reply": "2025-03-26T14:13:11.337124Z",
     "shell.execute_reply.started": "2025-03-26T14:13:09.683866Z"
    },
    "trusted": true
   },
   "outputs": [
    {
     "name": "stderr",
     "output_type": "stream",
     "text": [
      "Device set to use cuda:0\n"
     ]
    },
    {
     "name": "stdout",
     "output_type": "stream",
     "text": [
      "Automotive Accessories\n"
     ]
    }
   ],
   "source": [
    "from transformers import pipeline\n",
    "\n",
    "# Device: -1 = CPU, 0 = GPU\n",
    "classifier = pipeline(\"zero-shot-classification\", model=\"facebook/bart-large-mnli\", device=0)\n",
    "\n",
    "sequence_to_classify = \"satisfied little vacuum\"\n",
    "# Updated candidate labels\n",
    "candidate_labels = [\n",
    "    'Crossbody Bags', 'Car Phone Holders', 'Dashcams', 'Portable Car Vacuums','Automotive Accessories',\n",
    "    'Electric Toothbrushes','Dog Collars','Wallets','Phone Cases','Bluetooth Earbuds','Smartwatches','Sofa Covers','Broom Holders',\n",
    "'Kitchen Accessories','LED Lamps','Fairy Light','Security Cameras','Pendrive','Fitness Equipment','Beauty and Health Products']\n",
    "\n",
    "result = classifier(sequence_to_classify, candidate_labels)\n",
    "\n",
    "most_probable_label = result['labels'][0]\n",
    "print(most_probable_label)\n"
   ]
  },
  {
   "cell_type": "markdown",
   "metadata": {},
   "source": [
    "### Zero-Shot Classification for Product Reviews\n",
    "\n",
    "- **Dataset Loading and Classification**: The dataset is loaded and each review is classified using a zero-shot classification pipeline with the \"facebook/bart-large-mnli\" model, categorizing reviews into predefined product categories.\n",
    "\n",
    "- **Progress Bar and Saving**: The classification process is executed with a progress bar using `tqdm`, and the results are saved to a new CSV file for further analysis or use."
   ]
  },
  {
   "cell_type": "code",
   "execution_count": 2,
   "metadata": {
    "execution": {
     "iopub.execute_input": "2025-04-10T17:52:39.182856Z",
     "iopub.status.busy": "2025-04-10T17:52:39.182511Z",
     "iopub.status.idle": "2025-04-10T19:20:57.397367Z",
     "shell.execute_reply": "2025-04-10T19:20:57.396542Z",
     "shell.execute_reply.started": "2025-04-10T17:52:39.182828Z"
    },
    "trusted": true
   },
   "outputs": [
    {
     "name": "stderr",
     "output_type": "stream",
     "text": [
      "Device set to use cuda:0\n",
      "100%|██████████| 12916/12916 [1:28:15<00:00,  2.44it/s]\n"
     ]
    },
    {
     "name": "stdout",
     "output_type": "stream",
     "text": [
      "Annotation complete. Saved to annotated_reviews.csv\n"
     ]
    }
   ],
   "source": [
    "import pandas as pd\n",
    "from transformers import pipeline\n",
    "from tqdm import tqdm\n",
    "import torch\n",
    "\n",
    "# Enable tqdm for pandas apply\n",
    "tqdm.pandas()\n",
    "\n",
    "# Load your dataset\n",
    "df = pd.read_csv('/kaggle/input/labeling-for-product-category-of-sentiment/Product Review Of AliExpress SENTIMENT Processed.csv')\n",
    "\n",
    "candidate_labels = [\n",
    "    'Crossbody Bags', 'Car Phone Holders', 'Dashcams', 'Portable Car Vacuums','Automotive Accessories',\n",
    "    'Electric Toothbrushes','Dog Collars','Wallets','Phone Cases','Bluetooth Earbuds','Smartwatches','Sofa Covers','Broom Holders',\n",
    "'Kitchen Accessories','LED Lamps','Fairy Light','Security Cameras','Pendrive','Fitness Equipment','Beauty and Health Products']\n",
    "\n",
    "# Initialize the classifier with GPU\n",
    "classifier = pipeline(\"zero-shot-classification\", model=\"facebook/bart-large-mnli\", device=0)\n",
    "\n",
    "# Function to classify a single review\n",
    "def classify_review(review):\n",
    "    if pd.isna(review) or len(review.strip()) == 0:\n",
    "        return \"Unknown\"\n",
    "    result = classifier(review, candidate_labels)\n",
    "    return result['labels'][0]  # Most probable category\n",
    "\n",
    "# Apply classification to each review (with progress bar)\n",
    "df['categoryLabel'] = df['reviewContent'].progress_apply(classify_review)\n",
    "\n",
    "# Save the new annotated CSV\n",
    "df.to_csv('Final Product Review Of AliExpress Product Category Processed.csv', index=False)\n",
    "\n",
    "print(\"Annotation complete. Saved to annotated_reviews.csv\")\n"
   ]
  },
  {
   "cell_type": "markdown",
   "metadata": {},
   "source": [
    "## Mapping Product Categories to Base Classes\n",
    "\n",
    "- Mapped specific product types (e.g., `Pendrive`, `Smartwatches`) to broader base categories like `electronics`, `fashion`, `home`, etc.\n",
    "- Used a dictionary and `.map()` to update the `categoryLabel` column in the DataFrame.\n",
    "- Saved the updated DataFrame as `Final Mapped Product Review Of AliExpress Product Category Processed.csv`.\n"
   ]
  },
  {
   "cell_type": "code",
   "execution_count": 3,
   "metadata": {
    "execution": {
     "iopub.execute_input": "2025-04-10T19:21:08.378386Z",
     "iopub.status.busy": "2025-04-10T19:21:08.378079Z",
     "iopub.status.idle": "2025-04-10T19:21:08.386538Z",
     "shell.execute_reply": "2025-04-10T19:21:08.385603Z",
     "shell.execute_reply.started": "2025-04-10T19:21:08.378364Z"
    },
    "trusted": true
   },
   "outputs": [],
   "source": [
    "\n",
    "# Mapping of products to their respective base categories\n",
    "category_mapping = {\n",
    "    'Pendrive': 'electronics',\n",
    "    'Bluetooth Earbuds': 'fashion',\n",
    "    'Smartwatches': 'fashion',\n",
    "    'Security Cameras': 'electronics',\n",
    "    'Dashcams': 'electronics',\n",
    "    \n",
    "    'Portable Car Vacuums': 'automotive',\n",
    "    'Automotive Accessories': 'automotive',\n",
    "    'Car Phone Holders': 'automotive',\n",
    "    \n",
    "    'Electric Toothbrushes': 'health',\n",
    "    'Fitness Equipment': 'health',\n",
    "    'Beauty and Health Products': 'health',\n",
    "    \n",
    "    'Dog Collars': 'fashion',\n",
    "    'Wallets': 'fashion',\n",
    "    'Crossbody Bags': 'fashion',\n",
    "    'Phone Cases': 'fashion',\n",
    "    \n",
    "    'Sofa Covers': 'home',\n",
    "    'Broom Holders': 'home',\n",
    "    'Kitchen Accessories': 'home',\n",
    "    'LED Lamps': 'home',\n",
    "    'Fairy Light': 'home'\n",
    "}\n",
    "\n",
    "# Rename the 'categoryLabel' in the dataframe based on the mapping\n",
    "df['categoryLabel'] = df['categoryLabel'].map(category_mapping)"
   ]
  },
  {
   "cell_type": "code",
   "execution_count": 5,
   "metadata": {
    "execution": {
     "iopub.execute_input": "2025-04-10T19:21:27.365509Z",
     "iopub.status.busy": "2025-04-10T19:21:27.365201Z",
     "iopub.status.idle": "2025-04-10T19:21:27.547978Z",
     "shell.execute_reply": "2025-04-10T19:21:27.547352Z",
     "shell.execute_reply.started": "2025-04-10T19:21:27.365485Z"
    },
    "trusted": true
   },
   "outputs": [],
   "source": [
    "df.to_csv('Final Mapped Product Review Of AliExpress Product Category Processed.csv', index=False)\n"
   ]
  },
  {
   "cell_type": "code",
   "execution_count": 4,
   "metadata": {
    "execution": {
     "iopub.execute_input": "2025-04-10T19:21:11.285448Z",
     "iopub.status.busy": "2025-04-10T19:21:11.285166Z",
     "iopub.status.idle": "2025-04-10T19:21:11.294950Z",
     "shell.execute_reply": "2025-04-10T19:21:11.293763Z",
     "shell.execute_reply.started": "2025-04-10T19:21:11.285426Z"
    },
    "trusted": true
   },
   "outputs": [
    {
     "name": "stdout",
     "output_type": "stream",
     "text": [
      "categoryLabel\n",
      "electronics    5606\n",
      "automotive     5062\n",
      "fashion        1391\n",
      "home            642\n",
      "health          215\n",
      "Name: count, dtype: int64\n"
     ]
    }
   ],
   "source": [
    "import pandas as pd\n",
    "\n",
    "# Group by 'categoryLabel' and count the number of reviews in each category\n",
    "category_counts = df['categoryLabel'].value_counts()\n",
    "\n",
    "# Print the results\n",
    "print(category_counts)\n"
   ]
  }
 ],
 "metadata": {
  "kaggle": {
   "accelerator": "gpu",
   "dataSources": [
    {
     "datasetId": 7108797,
     "sourceId": 11358564,
     "sourceType": "datasetVersion"
    }
   ],
   "dockerImageVersionId": 30919,
   "isGpuEnabled": true,
   "isInternetEnabled": true,
   "language": "python",
   "sourceType": "notebook"
  },
  "kernelspec": {
   "display_name": "Python 3",
   "language": "python",
   "name": "python3"
  },
  "language_info": {
   "codemirror_mode": {
    "name": "ipython",
    "version": 3
   },
   "file_extension": ".py",
   "mimetype": "text/x-python",
   "name": "python",
   "nbconvert_exporter": "python",
   "pygments_lexer": "ipython3",
   "version": "3.10.12"
  }
 },
 "nbformat": 4,
 "nbformat_minor": 4
}
